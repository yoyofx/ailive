{
 "cells": [
  {
   "cell_type": "code",
   "execution_count": 1,
   "metadata": {},
   "outputs": [
    {
     "name": "stdout",
     "output_type": "stream",
     "text": [
      "Command executing .......\n",
      "stdout: \n",
      "stderr: 2024-05-23T15:37:35+08:00\tINFO\tVulnerability scanning is enabled\n",
      "2024-05-23T15:37:35+08:00\tINFO\tSecret scanning is enabled\n",
      "2024-05-23T15:37:35+08:00\tINFO\tIf your scanning is slow, please try '--scanners vuln' to disable secret scanning\n",
      "2024-05-23T15:37:35+08:00\tINFO\tPlease see also https://aquasecurity.github.io/trivy/v0.51/docs/scanner/secret/#recommendation for faster secret detection\n",
      "2024-05-23T15:37:44+08:00\tINFO\tNumber of language-specific files\tnum=1\n",
      "2024-05-23T15:37:44+08:00\tINFO\t[pip] Detecting vulnerabilities...\n",
      "\n",
      "Command executed successfully.\n"
     ]
    },
    {
     "name": "stderr",
     "output_type": "stream",
     "text": [
      "/Users/yoyofx/anaconda3/lib/python3.11/site-packages/langchain_core/_api/deprecation.py:119: LangChainDeprecationWarning: The method `BaseChatModel.predict` was deprecated in langchain-core 0.1.7 and will be removed in 0.3.0. Use invoke instead.\n",
      "  warn_deprecated(\n"
     ]
    },
    {
     "name": "stdout",
     "output_type": "stream",
     "text": [
      "```markdown\n",
      "## Changes\n",
      "\n",
      "Bumps SQLAlchemy from 2.0.0\n",
      "langchain\n",
      "langchain-community\n",
      "langchain-core                 \n",
      "langchain-openai\n",
      "\n"
     ]
    }
   ],
   "source": [
    "import os\n",
    "from pathlib import Path\n",
    "import subprocess\n",
    "from langchain.prompts import PromptTemplate\n",
    "from lang_funcs import ( create_llm_openai,create_llm_agent,read_toml )\n",
    "\n",
    "config = read_toml(\"./config.toml\")\n",
    "\n",
    "# python\n",
    "languge_dependent_file = \"requirements.txt\"\n",
    "\n",
    "llm = create_llm_openai( \n",
    "                         model=config[\"openai\"][\"model\"],\n",
    "                         apikey=config[\"openai\"][\"api_key\"],\n",
    "                         apibase=config[\"openai\"][\"url\"])\n",
    "\n",
    "# 定义命令和参数\n",
    "command = [\"trivy\", \"fs\", \"-f\", \"json\", \"-o\", \"results.json\", \".\"]\n",
    "try:\n",
    "    # 执行命令并等待其完成\n",
    "    result = subprocess.run(command, capture_output=True, text=True, check=True)\n",
    "    print(\"Command executing .......\")\n",
    "    # 打印命令的标准输出和标准错误\n",
    "    print(\"stdout:\", result.stdout)\n",
    "    print(\"stderr:\", result.stderr)\n",
    "    print(\"Command executed successfully.\")\n",
    "\n",
    "except subprocess.CalledProcessError as e:\n",
    "    # 命令执行失败时处理错误\n",
    "    print(\"An error occurred while executing the command.\")\n",
    "    print(\"stderr:\", e.stderr)\n",
    "\n",
    "with open(\"results.json\", 'r', encoding='utf-8') as file:\n",
    "    vuln_file = file.read()\n",
    "\n",
    "with open(languge_dependent_file, 'r', encoding='utf-8') as file:\n",
    "    dep_file = file.read()\n",
    "\n",
    "# 定义模板\n",
    "pr_template = \"\"\"\n",
    "请对比组件内容和组件漏洞清单,生产一个Github格式的PR:\n",
    "\n",
    "组件漏洞清单如下:\n",
    "{vuln_file}\n",
    "\n",
    "python 依赖文件 requirements.txt文件 组件内容如下:\n",
    "{dep_file}\n",
    "\n",
    "\n",
    "没有漏洞输出 None.\n",
    "\n",
    "如果有漏洞则输出如下参考格式:\n",
    "## Changes\n",
    "\n",
    "Bumps xxx from 0.19.0 to 0.21.0.\n",
    "\n",
    "Bumps xxxx from 0.10.0 to 0.11.0.\n",
    "\n",
    "## References\n",
    "- [CVE-2023-45288](https://avd.aquasec.com/nvd/cve-2023-45288)\n",
    "- [CVE-2024-24786](https://avd.aquasec.com/nvd/cve-2024-24786)\n",
    "\n",
    "\"\"\"\n",
    "\n",
    "# 定义 PromptTemplate\n",
    "prompt = PromptTemplate(\n",
    "    input_variables=[\"vuln_file\", \"dep_file\"],\n",
    "    template=pr_template\n",
    ")\n",
    "\n",
    "# 生成描述\n",
    "pr_description = prompt.format(\n",
    "    vuln_file=vuln_file,\n",
    "    dep_file=dep_file\n",
    ")\n",
    "\n",
    "# 使用 LLM 生成输出\n",
    "output = llm.predict(pr_description)\n",
    "\n",
    "# 打印生成的 Pull Request 描述\n",
    "print(output)\n",
    "\n",
    "pr_code_template = \"\"\"\n",
    "请根据组件漏洞清单,修复requirements.txt中的组件版本:\n",
    "\n",
    "组件漏洞清单如下:\n",
    "{vuln_file}\n",
    "\n",
    "requirements.txt:\n",
    "{dep_file}\n",
    "\n",
    "输出与requirements.txt格式保持一致,并标注做了修改\n",
    "\"\"\"\n",
    "\n",
    "\n",
    "code_prompt = PromptTemplate(\n",
    "    input_variables=[\"vuln_file\", \"dep_file\"],\n",
    "    template=pr_code_template\n",
    ")\n",
    "\n",
    "# 生成描述\n",
    "pr_code_description = code_prompt.format(\n",
    "    vuln_file=vuln_file,\n",
    "    dep_file=dep_file\n",
    ")\n",
    "\n",
    "\n",
    "\n",
    "output = llm.predict(pr_code_description)\n",
    "print(output)"
   ]
  },
  {
   "cell_type": "code",
   "execution_count": 2,
   "metadata": {},
   "outputs": [
    {
     "name": "stdout",
     "output_type": "stream",
     "text": [
      "client=<openai.resources.chat.completions.Completions object at 0x137dc6290> async_client=<openai.resources.chat.completions.AsyncCompletions object at 0x137dcded0> model_name='gpt-4' temperature=0.8 openai_api_key=SecretStr('**********') openai_proxy='' azure_endpoint='https://s2oai.openai.azure.com/' deployment_name='vision' openai_api_version='2024-05-01-preview' openai_api_type='azure'\n"
     ]
    },
    {
     "data": {
      "image/jpeg": "[encoded data removed]",
      "text/plain": [
       "<IPython.core.display.Image object>"
      ]
     },
     "metadata": {},
     "output_type": "display_data"
    },
    {
     "data": {
      "text/plain": [
       "[HumanMessage(content='What is 1 + 1?', id='d5e20157-a5c0-49fa-93cb-233e60e4d867'),\n",
       " AIMessage(content='1 + 1 equals 2.', response_metadata={'token_usage': {'completion_tokens': 8, 'prompt_tokens': 15, 'total_tokens': 23}, 'model_name': 'gpt-4', 'system_fingerprint': None, 'prompt_filter_results': [{'prompt_index': 0, 'content_filter_results': {'hate': {'filtered': False, 'severity': 'safe'}, 'self_harm': {'filtered': False, 'severity': 'safe'}, 'sexual': {'filtered': False, 'severity': 'safe'}, 'violence': {'filtered': False, 'severity': 'safe'}}}], 'finish_reason': 'stop', 'logprobs': None, 'content_filter_results': {'hate': {'filtered': False, 'severity': 'safe'}, 'self_harm': {'filtered': False, 'severity': 'safe'}, 'sexual': {'filtered': False, 'severity': 'safe'}, 'violence': {'filtered': False, 'severity': 'safe'}}}, id='run-17ac65e1-3648-4399-b61e-1c4161eb7cb0-0')]"
      ]
     },
     "execution_count": 2,
     "metadata": {},
     "output_type": "execute_result"
    }
   ],
   "source": [
    "import os\n",
    "from pathlib import Path\n",
    "from langchain_openai import ChatOpenAI\n",
    "from langchain_core.messages import BaseMessage, HumanMessage\n",
    "from langgraph.graph import END, MessageGraph\n",
    "from IPython.display import Image, display\n",
    "from langchain_core.tools import tool\n",
    "from langgraph.prebuilt import ToolNode\n",
    "\n",
    "from langchain.prompts import PromptTemplate\n",
    "from lang_funcs import ( create_llm_openai,create_llm_agent,read_toml )\n",
    "\n",
    "config = read_toml(\"./config.toml\")\n",
    "\n",
    "model = create_llm_openai(model=config[\"openai\"][\"model\"],\n",
    "                         apikey=config[\"openai\"][\"api_key\"],\n",
    "                         apibase=config[\"openai\"][\"url\"])\n",
    "\n",
    "print(model)\n",
    "graph = MessageGraph()\n",
    "\n",
    "graph.add_node(\"oracle\", model)\n",
    "graph.add_edge(\"oracle\", END)\n",
    "\n",
    "graph.set_entry_point(\"oracle\")\n",
    "\n",
    "runnable = graph.compile()\n",
    "display(Image(runnable.get_graph(xray=True).draw_mermaid_png()))\n",
    "\n",
    "runnable.invoke(HumanMessage(\"What is 1 + 1?\"))\n",
    "\n",
    "\n",
    "\n",
    "\n",
    "\n",
    "\n"
   ]
  },
  {
   "cell_type": "code",
   "execution_count": 1,
   "metadata": {},
   "outputs": [
    {
     "ename": "NameError",
     "evalue": "name 'tool' is not defined",
     "output_type": "error",
     "traceback": [
      "\u001b[0;31m---------------------------------------------------------------------------\u001b[0m",
      "\u001b[0;31mNameError\u001b[0m                                 Traceback (most recent call last)",
      "Cell \u001b[0;32mIn[1], line 3\u001b[0m\n\u001b[1;32m      1\u001b[0m \u001b[38;5;28;01mfrom\u001b[39;00m \u001b[38;5;21;01mtyping\u001b[39;00m \u001b[38;5;28;01mimport\u001b[39;00m Literal\n\u001b[0;32m----> 3\u001b[0m \u001b[38;5;129m@tool\u001b[39m\n\u001b[1;32m      4\u001b[0m \u001b[38;5;28;01mdef\u001b[39;00m \u001b[38;5;21mmultiply\u001b[39m(first_number: \u001b[38;5;28mint\u001b[39m, second_number: \u001b[38;5;28mint\u001b[39m):\n\u001b[1;32m      5\u001b[0m \u001b[38;5;250m    \u001b[39m\u001b[38;5;124;03m\"\"\"Multiplies two numbers together.\"\"\"\u001b[39;00m\n\u001b[1;32m      6\u001b[0m     \u001b[38;5;28;01mreturn\u001b[39;00m first_number \u001b[38;5;241m*\u001b[39m second_number\n",
      "\u001b[0;31mNameError\u001b[0m: name 'tool' is not defined"
     ]
    }
   ],
   "source": [
    "from typing import Literal\n",
    "\n",
    "@tool\n",
    "def multiply(first_number: int, second_number: int):\n",
    "    \"\"\"Multiplies two numbers together.\"\"\"\n",
    "    return first_number * second_number\n",
    "\n",
    "model_with_tools = model.bind_tools(tools=[multiply])\n",
    "\n",
    "graph = MessageGraph()\n",
    "\n",
    "graph.add_node(\"oracle\", model_with_tools)\n",
    "\n",
    "tool_node = ToolNode([multiply])\n",
    "graph.add_node(\"multiply\", tool_node)\n",
    "\n",
    "graph.add_edge(\"multiply\", END)\n",
    "\n",
    "\n",
    "def router(state: list[BaseMessage]) -> Literal[\"multiply\", \"__end__\"]:\n",
    "    tool_calls = state[-1].additional_kwargs.get(\"tool_calls\", [])\n",
    "    if len(tool_calls):\n",
    "        return \"multiply\"\n",
    "    else:\n",
    "        return END\n",
    "\n",
    "\n",
    "graph.add_conditional_edges(\"oracle\", router)\n",
    "\n",
    "graph.set_entry_point(\"oracle\")\n",
    "runnable = graph.compile()\n",
    "\n",
    "# runnable.invoke(HumanMessage(\"What is 123 * 456?\"))\n",
    "# runnable.invoke(HumanMessage(\"你叫什么名子?\"))\n",
    "\n",
    "\n",
    "display(Image(runnable.get_graph(xray=True).draw_mermaid_png()))"
   ]
  }
 ],
 "metadata": {
  "kernelspec": {
   "display_name": "base",
   "language": "python",
   "name": "python3"
  },
  "language_info": {
   "codemirror_mode": {
    "name": "ipython",
    "version": 3
   },
   "file_extension": ".py",
   "mimetype": "text/x-python",
   "name": "python",
   "nbconvert_exporter": "python",
   "pygments_lexer": "ipython3",
   "version": "3.11.8"
  }
 },
 "nbformat": 4,
 "nbformat_minor": 2
}
